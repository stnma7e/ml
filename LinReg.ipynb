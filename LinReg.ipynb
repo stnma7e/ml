{
 "cells": [
  {
   "cell_type": "code",
   "execution_count": 2,
   "metadata": {
    "collapsed": false
   },
   "outputs": [],
   "source": [
    "import numpy as np\n",
    "import numpy.linalg as la\n",
    "import pandas as pd\n",
    "import matplotlib as mpl\n",
    "import matplotlib.pyplot as plt"
   ]
  },
  {
   "cell_type": "code",
   "execution_count": 39,
   "metadata": {
    "collapsed": false
   },
   "outputs": [
    {
     "data": {
      "image/png": "[encoded data removed]",
      "text/plain": [
       "<Figure size 432x288 with 1 Axes>"
      ]
     },
     "metadata": {
      "needs_background": "light"
     },
     "output_type": "display_data"
    }
   ],
   "source": [
    "N = 2\n",
    "M = 100_000_0\n",
    "X = np.random.rand(M,1)\n",
    "y = 5 + 2*X + np.random.rand(M,1)\n",
    "plt.plot(X,y, '.')\n",
    "\n",
    "X_b = np.c_[np.ones((M,1)), X] # add x0 = 1 for all examples"
   ]
  },
  {
   "cell_type": "code",
   "execution_count": 41,
   "metadata": {
    "collapsed": false
   },
   "outputs": [
    {
     "name": "stdout",
     "output_type": "stream",
     "text": [
      "[[5.49956301]\n",
      " [2.0017715 ]]\n"
     ]
    }
   ],
   "source": [
    "## Least squares implementation\n",
    "theta_ls = la.inv(X_b.T.dot(X_b)).dot(X_b.T).dot(y)\n",
    "print(theta_ls)"
   ]
  },
  {
   "cell_type": "code",
   "execution_count": 44,
   "metadata": {
    "collapsed": false
   },
   "outputs": [
    {
     "name": "stdout",
     "output_type": "stream",
     "text": [
      "[[5.49956256]\n",
      " [2.00177234]]\n"
     ]
    }
   ],
   "source": [
    "## Gradient descent\n",
    "eta = 0.1\n",
    "theta_gd = np.random.rand(N,1)\n",
    "for i in range(1000):\n",
    "    dMSE = 2/M * X_b.T.dot(X_b.dot(theta_gd) - y)\n",
    "    theta_gd -= eta * dMSE\n",
    "print(theta_gd)"
   ]
  },
  {
   "cell_type": "code",
   "execution_count": 78,
   "metadata": {
    "collapsed": false
   },
   "outputs": [
    {
     "name": "stdout",
     "output_type": "stream",
     "text": [
      "[[5.48493241]\n",
      " [2.03050787]]\n"
     ]
    }
   ],
   "source": [
    "## Stochastic gradient descent\n",
    "batch_size = 1000\n",
    "n_epochs = 50\n",
    "t0, t1 = 0.01, 100\n",
    "\n",
    "def learning_schedule(t):\n",
    "    return t0 / (t + t1)\n",
    "\n",
    "theta_sgd = np.random.rand(N,1)\n",
    "for epoch in range(n_epochs):\n",
    "    for i in range(M // batch_size):\n",
    "        j = np.random.randint(M)\n",
    "        xj = X_b[j:min(j+batch_size, M - 1)]\n",
    "        yj = y[j:min(j+batch_size, M - 1)]\n",
    "        dMSE = 2 * xj.T.dot(xj.dot(theta_sgd) - yj)\n",
    "        eta = learning_schedule(epoch * M + i)\n",
    "        theta_sgd -= eta * dMSE\n",
    "print(theta_sgd)"
   ]
  },
  {
   "cell_type": "code",
   "execution_count": 46,
   "metadata": {
    "collapsed": false
   },
   "outputs": [
    {
     "data": {
      "text/plain": [
       "[<matplotlib.lines.Line2D at 0x7fc72da9f820>]"
      ]
     },
     "execution_count": 46,
     "metadata": {},
     "output_type": "execute_result"
    },
    {
     "data": {
      "image/png": "[encoded data removed]",
      "text/plain": [
       "<Figure size 432x288 with 1 Axes>"
      ]
     },
     "metadata": {
      "needs_background": "light"
     },
     "output_type": "display_data"
    }
   ],
   "source": [
    "X_reg = np.array([[0],[1]])\n",
    "X_reg_b = np.c_[np.ones((N,1)), X_reg]\n",
    "\n",
    "y_ls  = X_reg_b.dot(theta_ls)\n",
    "y_gd  = X_reg_b.dot(theta_gd)\n",
    "y_sgd = X_reg_b.dot(theta_sgd)\n",
    "\n",
    "plt.plot(X,y, '.')\n",
    "plt.plot(X_reg, y_gd)\n",
    "plt.plot(X_reg, y_ls)\n",
    "plt.plot(X_reg, y_sgd)"
   ]
  },
  {
   "cell_type": "code",
   "execution_count": null,
   "metadata": {
    "collapsed": false
   },
   "outputs": [],
   "source": []
  }
 ],
 "metadata": {
  "kernelspec": {
   "argv": [
    "/home/sam/programs/miniconda3/envs/torch/bin/python",
    "-m",
    "ipykernel_launcher",
    "-f",
    "{connection_file}"
   ],
   "display_name": "Python 3",
   "env": null,
   "interrupt_mode": "signal",
   "language": "python",
   "metadata": null,
   "name": "python3"
  },
  "language_info": {
   "codemirror_mode": {
    "name": "ipython",
    "version": 3
   },
   "file_extension": ".py",
   "mimetype": "text/x-python",
   "name": "python",
   "nbconvert_exporter": "python",
   "pygments_lexer": "ipython3",
   "version": "3.7.6"
  },
  "name": "LinReg.ipynb"
 },
 "nbformat": 4,
 "nbformat_minor": 4
}
